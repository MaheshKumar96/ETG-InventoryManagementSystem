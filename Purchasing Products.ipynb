{
 "cells": [
  {
   "cell_type": "markdown",
   "id": "701deb05",
   "metadata": {},
   "source": [
    "# Reading Records "
   ]
  },
  {
   "cell_type": "code",
   "execution_count": 104,
   "id": "12de2d39",
   "metadata": {},
   "outputs": [],
   "source": [
    "import json\n",
    "\n",
    "fd = open(\"record.json\", \"r\")\n",
    "data = fd.read()\n",
    "fd. close()\n",
    "\n",
    "records = json.loads(data)"
   ]
  },
  {
   "cell_type": "code",
   "execution_count": 23,
   "id": "b3de668b",
   "metadata": {},
   "outputs": [
    {
     "data": {
      "text/plain": [
       "{'1001': {'Name': 'Lays',\n",
       "  'Quantity': 82,\n",
       "  'Price': 20,\n",
       "  'Category': 'Eatable',\n",
       "  'Discount': 4},\n",
       " '1002': {'Name': 'Dairy Milk',\n",
       "  'Quantity': 501,\n",
       "  'Price': 80,\n",
       "  'Category': 'Eatable',\n",
       "  'Discount': 10},\n",
       " '1003': {'Name': 'Capsicum',\n",
       "  'Quantity': 42,\n",
       "  'Price': 30,\n",
       "  'Category': 'Vegetables',\n",
       "  'Discount': 2},\n",
       " '1004': {'Name': 'Kurkure',\n",
       "  'Quantity': 1000,\n",
       "  'Price': 10,\n",
       "  'Category': 'Eatables',\n",
       "  'Discount': 1},\n",
       " '1005': {'Name': 'Onion',\n",
       "  'Quantity': 45,\n",
       "  'Price': 30,\n",
       "  'Category': 'Vegetable',\n",
       "  'Discount': 2},\n",
       " '1006': {'Name': 'Battery',\n",
       "  'Quantity': 30,\n",
       "  'Price': 50,\n",
       "  'Category': 'Electronics',\n",
       "  'Discount': 5},\n",
       " '1007': {'Name': 'Bread',\n",
       "  'Quantity': 80,\n",
       "  'Price': 40,\n",
       "  'Category': 'Eatable',\n",
       "  'Discount': 5},\n",
       " '1008': {'Name': 'Milk',\n",
       "  'Quantity': 27,\n",
       "  'Price': 30,\n",
       "  'Category': 'Dairy',\n",
       "  'Discount': 0},\n",
       " '1009': {'Name': 'Yogurt',\n",
       "  'Quantity': 34,\n",
       "  'Price': 20,\n",
       "  'Category': 'Dairy',\n",
       "  'Discount': 1},\n",
       " '1010': {'Name': 'Cheese',\n",
       "  'Quantity': 10,\n",
       "  'Price': 70,\n",
       "  'Category': 'Dairy',\n",
       "  'Discount': 6},\n",
       " '1011': {'Name': 'Butter',\n",
       "  'Quantity': 20,\n",
       "  'Price': 50,\n",
       "  'Category': 'Dairy',\n",
       "  'Discount': 10},\n",
       " '1012': {'Name': 'Eggs',\n",
       "  'Quantity': 30,\n",
       "  'Price': 60,\n",
       "  'Category': 'Dairy',\n",
       "  'Discount': 4},\n",
       " '1013': {'Name': 'Salt',\n",
       "  'Quantity': 50,\n",
       "  'Price': 15,\n",
       "  'Category': 'Condiments',\n",
       "  'Discount': 0},\n",
       " '1014': {'Name': 'Pepper',\n",
       "  'Quantity': 90,\n",
       "  'Price': 20,\n",
       "  'Category': 'Condiments',\n",
       "  'Discount': 2},\n",
       " '1015': {'Name': 'Herbs',\n",
       "  'Quantity': 10,\n",
       "  'Price': 100,\n",
       "  'Category': 'Condiments',\n",
       "  'Discount': 5},\n",
       " '1016': {'Name': 'Spices',\n",
       "  'Quantity': 200,\n",
       "  'Price': 89,\n",
       "  'Category': 'Condiments',\n",
       "  'Discount': 6},\n",
       " '1017': {'Name': 'Honey',\n",
       "  'Quantity': 230,\n",
       "  'Price': 150,\n",
       "  'Category': 'Condiments',\n",
       "  'Discount': 9},\n",
       " '1018': {'Name': 'Sugar',\n",
       "  'Quantity': 90,\n",
       "  'Price': 45,\n",
       "  'Category': 'Condiments',\n",
       "  'Discount': 3},\n",
       " '1019': {'Name': 'Vinegar',\n",
       "  'Quantity': 600,\n",
       "  'Price': 199,\n",
       "  'Category': 'Condiments',\n",
       "  'Discount': 10},\n",
       " '1020': {'Name': 'Water',\n",
       "  'Quantity': 100,\n",
       "  'Price': 30,\n",
       "  'Category': 'Drinks',\n",
       "  'Discount': 0},\n",
       " '1021': {'Name': 'Coke',\n",
       "  'Quantity': 100,\n",
       "  'Price': 40,\n",
       "  'Category': 'Drinks',\n",
       "  'Discount': 0},\n",
       " '1022': {'Name': 'Nuts',\n",
       "  'Quantity': 400,\n",
       "  'Price': 500,\n",
       "  'Category': 'Snacks',\n",
       "  'Discount': 12},\n",
       " '1023': {'Name': 'Biscuits',\n",
       "  'Quantity': 60,\n",
       "  'Price': 10,\n",
       "  'Category': 'Snacks',\n",
       "  'Discount': 0},\n",
       " '1024': {'Name': 'Dark Chocolate',\n",
       "  'Quantity': 300,\n",
       "  'Price': 110,\n",
       "  'Category': 'Snacks',\n",
       "  'Discount': 14},\n",
       " '1025': {'Name': 'Oats',\n",
       "  'Quantity': 20,\n",
       "  'Price': 75,\n",
       "  'Category': 'Cereals',\n",
       "  'Discount': 2},\n",
       " '1026': {'Name': 'Tomato sauce',\n",
       "  'Quantity': 50,\n",
       "  'Price': 100,\n",
       "  'Category': 'Sauces',\n",
       "  'Discount': 9},\n",
       " '1027': {'Name': 'Mustard',\n",
       "  'Quantity': 60,\n",
       "  'Price': 75,\n",
       "  'Category': 'oil',\n",
       "  'Discount': 2},\n",
       " '1028': {'Name': 'Pepsi',\n",
       "  'Quantity': 68,\n",
       "  'Price': 45,\n",
       "  'Category': 'Drinks',\n",
       "  'Discount': 1},\n",
       " '1029': {'Name': 'Bun',\n",
       "  'Quantity': 72,\n",
       "  'Price': 10,\n",
       "  'Category': 'Eatable',\n",
       "  'Discount': 0},\n",
       " '1030': {'Name': 'Fanta',\n",
       "  'Quantity': 70,\n",
       "  'Price': 40,\n",
       "  'Category': 'Drinks',\n",
       "  'Discount': 2}}"
      ]
     },
     "execution_count": 23,
     "metadata": {},
     "output_type": "execute_result"
    }
   ],
   "source": [
    "records"
   ]
  },
  {
   "cell_type": "markdown",
   "id": "8cc450d5",
   "metadata": {},
   "source": [
    "# Purchasing Products"
   ]
  },
  {
   "cell_type": "markdown",
   "id": "b1a7930b",
   "metadata": {},
   "source": [
    "--Taking user input"
   ]
  },
  {
   "cell_type": "code",
   "execution_count": 146,
   "id": "34e8a4dc",
   "metadata": {},
   "outputs": [
    {
     "name": "stdout",
     "output_type": "stream",
     "text": [
      "Enter Your Name:kul\n",
      "Enter your mobile number:234762\n",
      "Enter the product id:1030\n",
      "Enter the quantity of product:1\n"
     ]
    }
   ],
   "source": [
    "cst_name = str(input(\"Enter Your Name:\"))\n",
    "cst_mob = int(input(\"Enter your mobile number:\"))\n",
    "pdt_id = input(\"Enter the product id:\")\n",
    "qty = int(input(\"Enter the quantity of product:\"))"
   ]
  },
  {
   "cell_type": "markdown",
   "id": "f3f7c0ea",
   "metadata": {},
   "source": [
    "# Generating Bill"
   ]
  },
  {
   "cell_type": "code",
   "execution_count": 147,
   "id": "af4cdd46",
   "metadata": {},
   "outputs": [
    {
     "name": "stdout",
     "output_type": "stream",
     "text": [
      "         Welcome To MK Store        \n",
      "*************************************\n",
      "               Bill           \n",
      "*************************************\n",
      "Date And Time: Mon Sep  6 20:40:02 2021\n",
      "\n",
      "Customer name: kul\n",
      "Customer mobile no: 234762\n",
      "____________________________________\n",
      "Product id: 1030\n",
      "Product name: Fanta\n",
      "Quantity: 1\n",
      "Price: 40\n",
      "Discount: 2\n",
      "____________________________________\n",
      "Total Amount: 38 \n",
      "\n",
      "\n",
      "Thanks For Buying !!! Please Visit Again!!!\n"
     ]
    }
   ],
   "source": [
    "import time \n",
    "dt = time.ctime()\n",
    "if pdt_id in records.keys() :\n",
    "    if (qty <= records[pdt_id]['Quantity']):\n",
    "        # Generating bill:\n",
    "        \n",
    "        print(\"         Welcome To MK Store        \")\n",
    "        print(\"*************************************\\n               Bill           \\n*************************************\")\n",
    "        print(\"Date And Time:\",dt)\n",
    "        print()\n",
    "        print(\"Customer name:\",cst_name)\n",
    "        print(\"Customer mobile no:\", cst_mob)\n",
    "        print(\"____________________________________\")\n",
    "        print(\"Product id:\",pdt_id)\n",
    "        print(\"Product name:\",records[pdt_id]['Name'])\n",
    "        print(\"Quantity:\",qty)\n",
    "        print(\"Price:\",records[pdt_id]['Price'])\n",
    "        print(\"Discount:\",records[pdt_id]['Discount'])\n",
    "        print(\"____________________________________\")\n",
    "        print(\"Total Amount:\", (qty * records[pdt_id]['Price'])-(records[pdt_id]['Discount']*qty),\"\\n\")\n",
    "        print()\n",
    "        print(\"Thanks For Buying !!! Please Visit Again!!!\")\n",
    "        # update the Quantity in the records\n",
    "        records[pdt_id]['Quantity'] -= qty\n",
    "        \n",
    "        if (records[pdt_id]['Quantity'] == 0):\n",
    "            print(\"Product Not Available now\")\n",
    "    else:\n",
    "        print(\"The given product is not available in the given quantity\")\n",
    "else:\n",
    "    print(\"Wrong product id or product currently not available\")\n",
    "    "
   ]
  },
  {
   "cell_type": "markdown",
   "id": "158002dc",
   "metadata": {},
   "source": [
    "# Updating Records"
   ]
  },
  {
   "cell_type": "code",
   "execution_count": 189,
   "id": "4f105aa9",
   "metadata": {},
   "outputs": [],
   "source": [
    "data = json.dumps(records)\n",
    "\n",
    "fd = open(\"record.json\", \"w\")\n",
    "fd.write(data)\n",
    "fd.close()"
   ]
  },
  {
   "cell_type": "markdown",
   "id": "77f9b07a",
   "metadata": {},
   "source": [
    "# Creating Sales Record"
   ]
  },
  {
   "cell_type": "code",
   "execution_count": 190,
   "id": "5e375351",
   "metadata": {},
   "outputs": [],
   "source": [
    "import json\n",
    "data = json.dumps(sale_data)\n",
    "\n",
    "fd = open(\"sales.json\", 'w')\n",
    "fd.write(data)\n",
    "fd.close()"
   ]
  },
  {
   "cell_type": "code",
   "execution_count": 191,
   "id": "a7b0c5cf",
   "metadata": {
    "scrolled": true
   },
   "outputs": [
    {
     "name": "stdout",
     "output_type": "stream",
     "text": [
      "{1: {'date and time': 'Mon Sep  6 20:57:27 2021', 'product id': '1030', 'name': 'Fanta', 'amount': 38, 'customer name': 'kul', 'customer mobile': 234762}}\n"
     ]
    }
   ],
   "source": [
    "# updating the sales\n",
    "import time\n",
    "import json\n",
    "dt = time.ctime()\n",
    "sale = open(\"sales.json\", \"r\")\n",
    "data = sale.read()\n",
    "sale.close()\n",
    "\n",
    "sales = json.loads(data)\n",
    "\n",
    "for i in records.keys():\n",
    "    n=1\n",
    "    sale_data ={n:{'date and time':time.ctime(),\n",
    "            'product id':pdt_id,\n",
    "            'name':records[pdt_id]['Name'],\n",
    "            'amount':(qty * records[pdt_id]['Price'])-(records[pdt_id]['Discount']*qty),\n",
    "            'customer name':cst_name,\n",
    "            'customer mobile':cst_mob}}\n",
    "    n+=1\n",
    "sales[i] = sale_data\n",
    "\n",
    "print(sales[i])"
   ]
  },
  {
   "cell_type": "code",
   "execution_count": 192,
   "id": "0089cc53",
   "metadata": {},
   "outputs": [],
   "source": [
    "# updating in the sales.json file\n",
    "data = json.dumps(sales[i])\n",
    "\n",
    "fd = open(\"sales.json\", \"a\")\n",
    "fd.write(data)\n",
    "fd.close()"
   ]
  },
  {
   "cell_type": "code",
   "execution_count": 193,
   "id": "5195aa2d",
   "metadata": {},
   "outputs": [
    {
     "data": {
      "text/plain": [
       "{'1': {'date and time': 'Mon Sep  6 20:57:03 2021',\n",
       "  'product id': '1030',\n",
       "  'name': 'Fanta',\n",
       "  'amount': 38,\n",
       "  'customer name': 'kul',\n",
       "  'customer mobile': 234762},\n",
       " '1030': {1: {'date and time': 'Mon Sep  6 20:57:27 2021',\n",
       "   'product id': '1030',\n",
       "   'name': 'Fanta',\n",
       "   'amount': 38,\n",
       "   'customer name': 'kul',\n",
       "   'customer mobile': 234762}}}"
      ]
     },
     "execution_count": 193,
     "metadata": {},
     "output_type": "execute_result"
    }
   ],
   "source": [
    "sales"
   ]
  },
  {
   "cell_type": "code",
   "execution_count": null,
   "id": "641ff3eb",
   "metadata": {},
   "outputs": [],
   "source": []
  }
 ],
 "metadata": {
  "kernelspec": {
   "display_name": "Python 3",
   "language": "python",
   "name": "python3"
  },
  "language_info": {
   "codemirror_mode": {
    "name": "ipython",
    "version": 3
   },
   "file_extension": ".py",
   "mimetype": "text/x-python",
   "name": "python",
   "nbconvert_exporter": "python",
   "pygments_lexer": "ipython3",
   "version": "3.8.8"
  }
 },
 "nbformat": 4,
 "nbformat_minor": 5
}
